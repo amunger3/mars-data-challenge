{
 "cells": [
  {
   "cell_type": "code",
   "execution_count": 26,
   "id": "ed45ce22",
   "metadata": {},
   "outputs": [],
   "source": [
    "from splinter import Browser\n",
    "from bs4 import BeautifulSoup\n",
    "from webdriver_manager.chrome import ChromeDriverManager\n",
    "\n",
    "# Set up Splinter\n",
    "# This is not working for me. I get 'NoneType' object is not callable.\n",
    "# As a workaround I have just downloaded the html page to demonstrate the scraping\n",
    "# executable_path = {'executable_path': ChromeDriverManager().install()}\n",
    "# browser = Browser('chrome', **executable_path, headless=False)\n"
   ]
  },
  {
   "cell_type": "code",
   "execution_count": 33,
   "id": "17657024",
   "metadata": {},
   "outputs": [
    {
     "ename": "NameError",
     "evalue": "name 'article' is not defined",
     "output_type": "error",
     "traceback": [
      "\u001b[1;31m---------------------------------------------------------------------------\u001b[0m",
      "\u001b[1;31mNameError\u001b[0m                                 Traceback (most recent call last)",
      "Cell \u001b[1;32mIn [33], line 21\u001b[0m\n\u001b[0;32m     18\u001b[0m article_list \u001b[38;5;241m=\u001b[39m []\n\u001b[0;32m     19\u001b[0m \u001b[38;5;28;01mfor\u001b[39;00m a \u001b[38;5;129;01min\u001b[39;00m articles:\n\u001b[0;32m     20\u001b[0m     art_dict \u001b[38;5;241m=\u001b[39m {\n\u001b[1;32m---> 21\u001b[0m         \u001b[38;5;124m'\u001b[39m\u001b[38;5;124mtitle\u001b[39m\u001b[38;5;124m'\u001b[39m: \u001b[43marticle\u001b[49m\u001b[38;5;241m.\u001b[39mfind(\u001b[38;5;124m'\u001b[39m\u001b[38;5;124mdiv\u001b[39m\u001b[38;5;124m'\u001b[39m, {\u001b[38;5;124m'\u001b[39m\u001b[38;5;124mclass\u001b[39m\u001b[38;5;124m'\u001b[39m: \u001b[38;5;124m'\u001b[39m\u001b[38;5;124mcontent_title\u001b[39m\u001b[38;5;124m'\u001b[39m}),\n\u001b[0;32m     22\u001b[0m         \u001b[38;5;124m'\u001b[39m\u001b[38;5;124mpreview\u001b[39m\u001b[38;5;124m'\u001b[39m: article\u001b[38;5;241m.\u001b[39mfind(\u001b[38;5;124m'\u001b[39m\u001b[38;5;124mdiv\u001b[39m\u001b[38;5;124m'\u001b[39m, {\u001b[38;5;124m'\u001b[39m\u001b[38;5;124mclass\u001b[39m\u001b[38;5;124m'\u001b[39m: \u001b[38;5;124m'\u001b[39m\u001b[38;5;124marticle_teaser_body\u001b[39m\u001b[38;5;124m'\u001b[39m})\n\u001b[0;32m     23\u001b[0m     }\n\u001b[0;32m     24\u001b[0m     article_list\u001b[38;5;241m.\u001b[39mappend(art_dict)\n\u001b[0;32m     26\u001b[0m \u001b[38;5;28mprint\u001b[39m(article_list)\n",
      "\u001b[1;31mNameError\u001b[0m: name 'article' is not defined"
     ]
    }
   ],
   "source": [
    "headers = {'User-Agent': 'Mozilla/5.0 (Macintosh; Intel Mac OS X 10_10_1) AppleWebKit/537.36 (KHTML, like Gecko) Chrome/39.0.2171.95 Safari/537.36'}\n",
    "req = requests.get('https://redplanetscience.com/', headers=headers)\n",
    "\n",
    "# This was my original workaround but it does not retrieve the same html as on a browser. There is no articles in the response.\n",
    "# Thus, the page has been downloaded and added to the directory for scraping.\n",
    "def get_articles(url):\n",
    "    soup = BeautifulSoup(url.text, 'html.parser')\n",
    "    print(soup.body)\n",
    "    articles = soup.body.find_all('div', {'class': 'list_text'})\n",
    "    print(articles)\n",
    "    return\n",
    "\n",
    "file = open('News - Mars Exploration Program.html', 'r')\n",
    "page = file.read()\n",
    "\n",
    "soup = BeautifulSoup(page, 'html.parser')\n",
    "articles = soup.body.find_all('div', {'class': 'list_text'})\n",
    "article_list = []\n",
    "for a in articles:\n",
    "    art_dict = {\n",
    "        'title': a.find('div', {'class': 'content_title'}),\n",
    "        'preview': a.find('div', {'class': 'article_teaser_body'})\n",
    "    }\n",
    "    article_list.append(art_dict)\n",
    "    \n",
    "print(article_list)\n"
   ]
  },
  {
   "cell_type": "code",
   "execution_count": null,
   "id": "54c03296",
   "metadata": {},
   "outputs": [],
   "source": []
  }
 ],
 "metadata": {
  "kernelspec": {
   "display_name": "Python 3 (ipykernel)",
   "language": "python",
   "name": "python3"
  },
  "language_info": {
   "codemirror_mode": {
    "name": "ipython",
    "version": 3
   },
   "file_extension": ".py",
   "mimetype": "text/x-python",
   "name": "python",
   "nbconvert_exporter": "python",
   "pygments_lexer": "ipython3",
   "version": "3.10.6"
  }
 },
 "nbformat": 4,
 "nbformat_minor": 5
}
